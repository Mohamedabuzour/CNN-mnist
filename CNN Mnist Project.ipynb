{
 "cells": [
  {
   "cell_type": "code",
   "execution_count": 78,
   "id": "aad6ad96",
   "metadata": {},
   "outputs": [],
   "source": [
    "import numpy as np\n",
    "import matplotlib.pyplot as plt \n",
    "from warnings import filterwarnings\n",
    "filterwarnings(\"ignore\")"
   ]
  },
  {
   "cell_type": "markdown",
   "id": "ac3be409",
   "metadata": {},
   "source": [
    "# Read "
   ]
  },
  {
   "cell_type": "code",
   "execution_count": 79,
   "id": "aeb82438",
   "metadata": {},
   "outputs": [],
   "source": [
    "from tensorflow.keras.datasets import mnist"
   ]
  },
  {
   "cell_type": "code",
   "execution_count": 80,
   "id": "3764c293",
   "metadata": {},
   "outputs": [],
   "source": [
    "(X_train, y_train), (X_test, y_test) = mnist.load_data()"
   ]
  },
  {
   "cell_type": "markdown",
   "id": "8521d33c",
   "metadata": {},
   "source": [
    "# Display images"
   ]
  },
  {
   "cell_type": "code",
   "execution_count": 81,
   "id": "0120ea50",
   "metadata": {},
   "outputs": [],
   "source": [
    "clss = np.unique(y_train)"
   ]
  },
  {
   "cell_type": "code",
   "execution_count": 82,
   "id": "0382bdb6",
   "metadata": {},
   "outputs": [
    {
     "data": {
      "image/png": "[encoded data removed]",
      "text/plain": [
       "<Figure size 640x480 with 10 Axes>"
      ]
     },
     "metadata": {},
     "output_type": "display_data"
    }
   ],
   "source": [
    "for cls in clss:\n",
    "    imgs = X_train[y_train == cls]\n",
    "    plt.subplot(1, 10, cls+1)\n",
    "    plt.imshow(imgs[0], cmap=\"gray\")\n",
    "    plt.axis(\"off\")\n",
    "plt.show()"
   ]
  },
  {
   "cell_type": "markdown",
   "id": "9325e645",
   "metadata": {},
   "source": [
    "# Split"
   ]
  },
  {
   "cell_type": "code",
   "execution_count": 83,
   "id": "bdfb491f",
   "metadata": {},
   "outputs": [],
   "source": [
    "from sklearn.model_selection import train_test_split\n",
    "X_train, X_val, y_train, y_val = train_test_split(X_train, y_train, test_size=.1, random_state=42)"
   ]
  },
  {
   "cell_type": "markdown",
   "id": "0eed215f",
   "metadata": {},
   "source": [
    "# Normalization"
   ]
  },
  {
   "cell_type": "code",
   "execution_count": 84,
   "id": "e5fec976",
   "metadata": {},
   "outputs": [],
   "source": [
    "X_train = X_train / 255\n",
    "X_test = X_test / 255\n",
    "X_val = X_val / 255"
   ]
  },
  {
   "cell_type": "markdown",
   "id": "49e2dacb",
   "metadata": {},
   "source": [
    "# CNN"
   ]
  },
  {
   "cell_type": "code",
   "execution_count": 26,
   "id": "77b66694",
   "metadata": {},
   "outputs": [
    {
     "data": {
      "text/plain": [
       "(28, 28)"
      ]
     },
     "execution_count": 26,
     "metadata": {},
     "output_type": "execute_result"
    }
   ],
   "source": [
    "X_train[29].shape"
   ]
  },
  {
   "cell_type": "code",
   "execution_count": 35,
   "id": "138ae2de",
   "metadata": {},
   "outputs": [],
   "source": [
    "from tensorflow.keras.models import Sequential\n",
    "from tensorflow.keras.layers import Input, Conv2D, MaxPooling2D, Flatten, Dense\n",
    "model = Sequential()\n",
    "model.add(Input(shape=(28, 28, 1))) # 1 ==> number of channels\n",
    "model.add(Conv2D(3, (3, 3), activation=\"relu\"))\n",
    "model.add(MaxPooling2D((3, 3)))\n",
    "model.add(Conv2D(7, (3, 3), activation=\"relu\"))\n",
    "model.add(MaxPooling2D((2, 2)))\n",
    "model.add(Flatten())\n",
    "model.add(Dense(10, activation=\"relu\"))\n",
    "model.add(Dense(10, activation=\"softmax\"))"
   ]
  },
  {
   "cell_type": "code",
   "execution_count": 37,
   "id": "375ad808",
   "metadata": {},
   "outputs": [],
   "source": [
    "model.compile(optimizer=\"adam\",\n",
    "              loss=\"sparse_categorical_crossentropy\",\n",
    "              metrics=[\"accuracy\"])"
   ]
  },
  {
   "cell_type": "code",
   "execution_count": 38,
   "id": "a36cac67",
   "metadata": {},
   "outputs": [
    {
     "name": "stdout",
     "output_type": "stream",
     "text": [
      "Epoch 1/10\n",
      "1519/1519 [==============================] - 23s 14ms/step - loss: 0.6581 - accuracy: 0.7861 - val_loss: 0.2675 - val_accuracy: 0.9170\n",
      "Epoch 2/10\n",
      "1519/1519 [==============================] - 20s 13ms/step - loss: 0.2181 - accuracy: 0.9341 - val_loss: 0.2063 - val_accuracy: 0.9367\n",
      "Epoch 3/10\n",
      "1519/1519 [==============================] - 20s 13ms/step - loss: 0.1752 - accuracy: 0.9468 - val_loss: 0.1647 - val_accuracy: 0.9493\n",
      "Epoch 4/10\n",
      "1519/1519 [==============================] - 20s 13ms/step - loss: 0.1529 - accuracy: 0.9531 - val_loss: 0.1524 - val_accuracy: 0.9531\n",
      "Epoch 5/10\n",
      "1519/1519 [==============================] - 20s 13ms/step - loss: 0.1388 - accuracy: 0.9570 - val_loss: 0.1324 - val_accuracy: 0.9591\n",
      "Epoch 6/10\n",
      "1519/1519 [==============================] - 21s 14ms/step - loss: 0.1285 - accuracy: 0.9604 - val_loss: 0.1301 - val_accuracy: 0.9587\n",
      "Epoch 7/10\n",
      "1519/1519 [==============================] - 22s 14ms/step - loss: 0.1215 - accuracy: 0.9624 - val_loss: 0.1208 - val_accuracy: 0.9622\n",
      "Epoch 8/10\n",
      "1519/1519 [==============================] - 21s 14ms/step - loss: 0.1165 - accuracy: 0.9639 - val_loss: 0.1174 - val_accuracy: 0.9615\n",
      "Epoch 9/10\n",
      "1519/1519 [==============================] - 21s 14ms/step - loss: 0.1120 - accuracy: 0.9650 - val_loss: 0.1145 - val_accuracy: 0.9641\n",
      "Epoch 10/10\n",
      "1519/1519 [==============================] - 21s 14ms/step - loss: 0.1081 - accuracy: 0.9664 - val_loss: 0.1118 - val_accuracy: 0.9633\n"
     ]
    },
    {
     "data": {
      "text/plain": [
       "<keras.src.callbacks.History at 0x222352bb280>"
      ]
     },
     "execution_count": 38,
     "metadata": {},
     "output_type": "execute_result"
    }
   ],
   "source": [
    "model.fit(X_train, y_train, epochs=10, validation_data=[X_val, y_val])"
   ]
  },
  {
   "cell_type": "markdown",
   "id": "a3a9bca1",
   "metadata": {},
   "source": [
    "# Apply prediction"
   ]
  },
  {
   "cell_type": "code",
   "execution_count": 89,
   "id": "494c4324",
   "metadata": {},
   "outputs": [
    {
     "data": {
      "image/png": "[encoded data removed]",
      "text/plain": [
       "<Figure size 100x100 with 1 Axes>"
      ]
     },
     "metadata": {},
     "output_type": "display_data"
    }
   ],
   "source": [
    "img = X_train[0]\n",
    "plt.figure(figsize=(1, 1))\n",
    "plt.imshow(img, cmap=\"gray\")\n",
    "plt.axis(\"off\")\n",
    "plt.show()"
   ]
  },
  {
   "cell_type": "code",
   "execution_count": 92,
   "id": "92dc5416",
   "metadata": {},
   "outputs": [
    {
     "name": "stdout",
     "output_type": "stream",
     "text": [
      "1/1 [==============================] - 0s 108ms/step\n"
     ]
    }
   ],
   "source": [
    "img = img.reshape((1, 28, 28))\n",
    "pred = model.predict(img)"
   ]
  },
  {
   "cell_type": "code",
   "execution_count": 93,
   "id": "c9973c4f",
   "metadata": {},
   "outputs": [
    {
     "data": {
      "text/plain": [
       "1"
      ]
     },
     "execution_count": 93,
     "metadata": {},
     "output_type": "execute_result"
    }
   ],
   "source": [
    "pred.argmax()"
   ]
  },
  {
   "cell_type": "code",
   "execution_count": null,
   "id": "aafb9541",
   "metadata": {},
   "outputs": [],
   "source": []
  }
 ],
 "metadata": {
  "kernelspec": {
   "display_name": "Python 3 (ipykernel)",
   "language": "python",
   "name": "python3"
  },
  "language_info": {
   "codemirror_mode": {
    "name": "ipython",
    "version": 3
   },
   "file_extension": ".py",
   "mimetype": "text/x-python",
   "name": "python",
   "nbconvert_exporter": "python",
   "pygments_lexer": "ipython3",
   "version": "3.10.9"
  }
 },
 "nbformat": 4,
 "nbformat_minor": 5
}
